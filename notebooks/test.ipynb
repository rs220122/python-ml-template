{
 "cells": [
  {
   "cell_type": "markdown",
   "metadata": {},
   "source": [
    "# サンプルノートブック\n",
    "This is sample notebooks. \n",
    "\n",
    "## 本ノートブックの目的\n",
    "分類モデルを作成し、評価を行うこと。\n",
    "\n",
    "\n",
    "## 実験手順\n",
    "1. データの前処理を定義\n",
    "2. 前処理に対して、分類モデルを作成\n",
    "3. 分類モデルに対して、F1スコアで評価を行う\n",
    "\n",
    "\n",
    "## 前処理戦略\n",
    "- 数値データに対して、標準化を行う\n",
    "- ラベル(非数値)データに対して、one-hot エンコーディングを行う\n",
    "- 画像データに対して、ソーベルフィルタを適用させて、エッジ抽出を行う\n",
    "\n",
    "## 使用モデル\n",
    "LightGBM\n",
    "### なぜそのモデルか?\n",
    "分類モデルを使う。今回は、GPU未使用の環境のため、DNNではなく、より軽量なモデルであるLightGBMを使う。"
   ]
  },
  {
   "cell_type": "code",
   "execution_count": 1,
   "metadata": {},
   "outputs": [],
   "source": [
    "import numpy as np\n",
    "from sklearn.datasets import load_wine\n",
    "import matplotlib.pyplot as plt \n",
    "\n"
   ]
  },
  {
   "cell_type": "code",
   "execution_count": 3,
   "metadata": {},
   "outputs": [],
   "source": [
    "X = load_wine()['data']\n",
    "y = load_wine()['target']"
   ]
  },
  {
   "cell_type": "code",
   "execution_count": null,
   "metadata": {},
   "outputs": [],
   "source": []
  }
 ],
 "metadata": {
  "kernelspec": {
   "display_name": "mlops",
   "language": "python",
   "name": "python3"
  },
  "language_info": {
   "codemirror_mode": {
    "name": "ipython",
    "version": 3
   },
   "file_extension": ".py",
   "mimetype": "text/x-python",
   "name": "python",
   "nbconvert_exporter": "python",
   "pygments_lexer": "ipython3",
   "version": "3.9.0"
  }
 },
 "nbformat": 4,
 "nbformat_minor": 2
}
